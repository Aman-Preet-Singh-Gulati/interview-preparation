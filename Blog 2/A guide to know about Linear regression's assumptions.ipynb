{
 "cells": [
  {
   "cell_type": "markdown",
   "metadata": {},
   "source": [
    "## Introduction\n",
    "\n",
    "All data science and machine learning enthusiast have surely come across one very famous ML algorithm i.e. **Linear Regression** and have surely implemented the same using python and it's ML library named as **sklearn**. But are we aware of the **assumptions** that one needs to **check and validate** before using the linear regression model?\n",
    "\n",
    "If the answer is **yes** then I'll still recommend to go through this article in order to **refresh the concepts** while for the ones of the answer is **no** then you have come to right place because in this article I'm gonna break through all the assumptions that needs to be care in case of **LR** model. "
   ]
  },
  {
   "cell_type": "markdown",
   "metadata": {},
   "source": [
    "## Assumptions of Linear Regression \n",
    "\n",
    "Here I've just listed down all the assumptions which we will discuss in both ways (conceptual and practical implementation using python)\n",
    "\n",
    "1. **Linear Relationship**\n",
    "2. **No Multicollinearity**\n",
    "3. **rmality of residual**\n",
    "4. **Homoscedacity**\n",
    "5. **No Autocorrelation of errors**"
   ]
  },
  {
   "cell_type": "code",
   "execution_count": 1,
   "metadata": {},
   "outputs": [],
   "source": [
    "import pandas as pd\n",
    "import numpy as np\n",
    "import matplotlib.pyplot as plt\n",
    "import seaborn as sns"
   ]
  },
  {
   "cell_type": "markdown",
   "metadata": {},
   "source": [
    "Here we are starting the practical implementation by **importing all the necessary libraries** that we will require in the course of this article.\n",
    "\n",
    "* **Pandas** for dealing dataframes\n",
    "* **Numpy** for dealing with mathematical operations related to array.\n",
    "* **Matplotlib** and seaborn for data visualization"
   ]
  },
  {
   "cell_type": "code",
   "execution_count": 16,
   "metadata": {},
   "outputs": [
    {
     "data": {
      "text/html": [
       "<div>\n",
       "<style scoped>\n",
       "    .dataframe tbody tr th:only-of-type {\n",
       "        vertical-align: middle;\n",
       "    }\n",
       "\n",
       "    .dataframe tbody tr th {\n",
       "        vertical-align: top;\n",
       "    }\n",
       "\n",
       "    .dataframe thead th {\n",
       "        text-align: right;\n",
       "    }\n",
       "</style>\n",
       "<table border=\"1\" class=\"dataframe\">\n",
       "  <thead>\n",
       "    <tr style=\"text-align: right;\">\n",
       "      <th></th>\n",
       "      <th>feature1</th>\n",
       "      <th>feature2</th>\n",
       "      <th>feature3</th>\n",
       "      <th>target</th>\n",
       "    </tr>\n",
       "  </thead>\n",
       "  <tbody>\n",
       "    <tr>\n",
       "      <th>0</th>\n",
       "      <td>-0.570563</td>\n",
       "      <td>1.420342</td>\n",
       "      <td>0.495580</td>\n",
       "      <td>-9.763182</td>\n",
       "    </tr>\n",
       "    <tr>\n",
       "      <th>1</th>\n",
       "      <td>-0.990563</td>\n",
       "      <td>0.556965</td>\n",
       "      <td>1.045064</td>\n",
       "      <td>-24.029355</td>\n",
       "    </tr>\n",
       "    <tr>\n",
       "      <th>2</th>\n",
       "      <td>-0.674728</td>\n",
       "      <td>0.150617</td>\n",
       "      <td>1.774645</td>\n",
       "      <td>45.616421</td>\n",
       "    </tr>\n",
       "    <tr>\n",
       "      <th>3</th>\n",
       "      <td>0.388250</td>\n",
       "      <td>-0.387127</td>\n",
       "      <td>-0.110229</td>\n",
       "      <td>34.135737</td>\n",
       "    </tr>\n",
       "    <tr>\n",
       "      <th>4</th>\n",
       "      <td>1.167882</td>\n",
       "      <td>-0.024104</td>\n",
       "      <td>0.145063</td>\n",
       "      <td>86.663647</td>\n",
       "    </tr>\n",
       "  </tbody>\n",
       "</table>\n",
       "</div>"
      ],
      "text/plain": [
       "   feature1  feature2  feature3     target\n",
       "0 -0.570563  1.420342  0.495580  -9.763182\n",
       "1 -0.990563  0.556965  1.045064 -24.029355\n",
       "2 -0.674728  0.150617  1.774645  45.616421\n",
       "3  0.388250 -0.387127 -0.110229  34.135737\n",
       "4  1.167882 -0.024104  0.145063  86.663647"
      ]
     },
     "execution_count": 16,
     "metadata": {},
     "output_type": "execute_result"
    }
   ],
   "source": [
    "df = pd.read_csv('data.csv')\n",
    "df.head()"
   ]
  },
  {
   "cell_type": "markdown",
   "metadata": {},
   "source": [
    "To discuss the assumptions related to **LR algorithm**, I got the **dummy dataset** where we have 3 features and a target variable."
   ]
  },
  {
   "cell_type": "code",
   "execution_count": 4,
   "metadata": {},
   "outputs": [],
   "source": [
    "X = df.iloc[:,0:3].values     # Independent Variables\n",
    "y = df.iloc[:,-1].values      # Dependent variable"
   ]
  },
  {
   "cell_type": "code",
   "execution_count": 5,
   "metadata": {},
   "outputs": [],
   "source": [
    "# Dividing dataset in training and testing dataset\n",
    "from sklearn.model_selection import train_test_split\n",
    "X_train,X_test,y_train,y_test = train_test_split(X,y,test_size=0.3,random_state=1)"
   ]
  },
  {
   "cell_type": "code",
   "execution_count": 6,
   "metadata": {},
   "outputs": [
    {
     "data": {
      "text/plain": [
       "LinearRegression()"
      ]
     },
     "execution_count": 6,
     "metadata": {},
     "output_type": "execute_result"
    }
   ],
   "source": [
    "# Model development \n",
    "from sklearn.linear_model import LinearRegression\n",
    "model = LinearRegression()\n",
    "\n",
    "model.fit(X_train,y_train)"
   ]
  },
  {
   "cell_type": "code",
   "execution_count": 7,
   "metadata": {},
   "outputs": [],
   "source": [
    "# Extracting Residuals\n",
    "y_pred = model.predict(X_test)\n",
    "residual = y_test - y_pred"
   ]
  },
  {
   "cell_type": "markdown",
   "metadata": {},
   "source": [
    "**Inference:** In the above set of code we followed all the steps in order to build the model which are as follows:\n",
    "\n",
    "1. Extracting **dependent** and **independent** variables.\n",
    "2. Dividing dataset into testing and training dataset using **train_test_split**\n",
    "3. Model development using **sklearn** and it's **fit** function\n",
    "4. Extracting the **residuals/errors** this was important step because we will need these in pur 3 assumption."
   ]
  },
  {
   "cell_type": "markdown",
   "metadata": {},
   "source": [
    "## 1. Linear Relationship\n",
    "\n",
    "There should be a linear relationship between **input and output** i.e. **features and target**. Non-Linear relationships between both will not be able to capture by **Linear Regression** model. This is somewhere easy to pick when we have only one input and one output. But what if we have **multiple input** (which is more applicable in real world scenarios) then also every **feature** should be linearly related with **output (target)** variable.\n",
    "\n",
    "This may sound bit confusing, so let's take a small **example**: Suppose we are working with **old car price** dataset where    we have multiple features say, Mileage, Year of purchase, Total kilometers a car has travelled etc. So each feature should      have a simulateneously **linear relationship** with **target variable**."
   ]
  },
  {
   "cell_type": "code",
   "execution_count": 8,
   "metadata": {},
   "outputs": [
    {
     "data": {
      "image/png": "[encoded data removed]",
      "text/plain": [
       "<Figure size 864x180 with 3 Axes>"
      ]
     },
     "metadata": {
      "needs_background": "light"
     },
     "output_type": "display_data"
    }
   ],
   "source": [
    "fig, (ax1, ax2, ax3) = plt.subplots(ncols=3, figsize=(12, 2.5))\n",
    "\n",
    "ax1.scatter(df['feature1'], df['target'])\n",
    "ax1.set_title(\"Feature1\")\n",
    "ax2.scatter(df['feature2'], df['target'])\n",
    "ax2.set_title(\"Feature2\")\n",
    "ax3.scatter(df['feature3'], df['target'])\n",
    "ax3.set_title(\"Feature3\")\n",
    "\n",
    "plt.show()"
   ]
  },
  {
   "cell_type": "markdown",
   "metadata": {},
   "source": [
    "**Inference:** From the above lines of code we are plotting the **scatter plot** ure of target variable with each feature in the dataset in order to confirm that is the data linearly related with our output column or not.\n",
    "\n",
    "From the above plot, we can clearly see that **Feature1** is perfectly correlated with target while **Feature2** is somewhere close to be correlated on the other hand **Feature3** is in the middle with respect to 1 and 2 as it is more linearly seperable than feature 2 and less than feature 1.\n",
    "\n",
    "**Conclusion** The features/input in this dataset has linear relationship with the output variable hence we can move to check other assumptions for a better linear regression model."
   ]
  },
  {
   "cell_type": "markdown",
   "metadata": {},
   "source": [
    "## 2. Multicollinearity\n",
    "\n",
    "This is the second assumption that we have to take care while moving forward with **Linear regression model**, Before digging deep into this case let's first understand that **what is Multicollinearity?** \n",
    "\n",
    "**Multicollinearity** is a term which we use when the features are not **independent** with each other i.e. the change in one feature results in the change of another one, and this is something which is **not needed in linear regression model** development. Let's take a simple **conceptual example** to understand how it can effect the performance of the model. Suppose we have to analyse the **performance of project** on which 2 scientists are working on with **same skills set**, so is it possible to take both of their features and see who performed better? \n",
    "\n",
    "No right! because they both are **correlated** so it won't make much sense but on the other hand if they have **different skills set** then it would have definitely made sense."
   ]
  },
  {
   "cell_type": "code",
   "execution_count": 9,
   "metadata": {},
   "outputs": [],
   "source": [
    "from statsmodels.stats.outliers_influence import variance_inflation_factor\n",
    "\n",
    "vif = []\n",
    "\n",
    "for i in range(X_train.shape[1]):\n",
    "    vif.append(variance_inflation_factor(X_train, i))"
   ]
  },
  {
   "cell_type": "code",
   "execution_count": 10,
   "metadata": {},
   "outputs": [
    {
     "data": {
      "text/html": [
       "<div>\n",
       "<style scoped>\n",
       "    .dataframe tbody tr th:only-of-type {\n",
       "        vertical-align: middle;\n",
       "    }\n",
       "\n",
       "    .dataframe tbody tr th {\n",
       "        vertical-align: top;\n",
       "    }\n",
       "\n",
       "    .dataframe thead th {\n",
       "        text-align: right;\n",
       "    }\n",
       "</style>\n",
       "<table border=\"1\" class=\"dataframe\">\n",
       "  <thead>\n",
       "    <tr style=\"text-align: right;\">\n",
       "      <th></th>\n",
       "      <th>feature1</th>\n",
       "      <th>feature2</th>\n",
       "      <th>feature3</th>\n",
       "    </tr>\n",
       "  </thead>\n",
       "  <tbody>\n",
       "    <tr>\n",
       "      <th>vif</th>\n",
       "      <td>1.010326</td>\n",
       "      <td>1.009871</td>\n",
       "      <td>1.01395</td>\n",
       "    </tr>\n",
       "  </tbody>\n",
       "</table>\n",
       "</div>"
      ],
      "text/plain": [
       "     feature1  feature2  feature3\n",
       "vif  1.010326  1.009871   1.01395"
      ]
     },
     "execution_count": 10,
     "metadata": {},
     "output_type": "execute_result"
    }
   ],
   "source": [
    "pd.DataFrame({'vif': vif}, index=df.columns[0:3]).T"
   ]
  },
  {
   "cell_type": "markdown",
   "metadata": {},
   "source": [
    "**Inference:** To check if the data has multicollinearity, we have very much dependable statistical measure i.e. **Variance Inflation Factor** which return us the real number and if that real number is **close to 1** for all the features then celebrate because your data is free from this pain while if the number is **5 or greater** than that so you should not go for linear regressor. "
   ]
  },
  {
   "cell_type": "code",
   "execution_count": 11,
   "metadata": {},
   "outputs": [
    {
     "data": {
      "text/plain": [
       "<AxesSubplot:>"
      ]
     },
     "execution_count": 11,
     "metadata": {},
     "output_type": "execute_result"
    },
    {
     "data": {
      "image/png": "[encoded data removed]",
      "text/plain": [
       "<Figure size 432x288 with 2 Axes>"
      ]
     },
     "metadata": {
      "needs_background": "light"
     },
     "output_type": "display_data"
    }
   ],
   "source": [
    "# Another Technique\n",
    "sns.heatmap(df.iloc[:,0:3].corr(),annot=True)"
   ]
  },
  {
   "cell_type": "markdown",
   "metadata": {},
   "source": [
    "**Inference:** One more technique to see the **multicollinearity** is finding the correlation using **corr() method** and plot the results in the form of **heat map**, the number game is still the same as it was in variance inflation factor. "
   ]
  },
  {
   "cell_type": "markdown",
   "metadata": {},
   "source": [
    "## 3. Normality of Residual\n",
    "\n",
    "This is the third assumption in our list- **Normality of Residual**, if you are hearing for the first time then it can be intimidating in that case let me break it down for you. So here it means that the **residual or errors** that we get at the time of predictions should be normally distributed (most of the values should be **around 0** and few values only **away from 0**) when we will plot it, this can be seen through a **KDE (kernel density plot)**."
   ]
  },
  {
   "cell_type": "code",
   "execution_count": 12,
   "metadata": {},
   "outputs": [
    {
     "data": {
      "text/plain": [
       "<seaborn.axisgrid.FacetGrid at 0x20bccd9a250>"
      ]
     },
     "execution_count": 12,
     "metadata": {},
     "output_type": "execute_result"
    },
    {
     "data": {
      "image/png": "[encoded data removed]",
      "text/plain": [
       "<Figure size 360x360 with 1 Axes>"
      ]
     },
     "metadata": {
      "needs_background": "light"
     },
     "output_type": "display_data"
    }
   ],
   "source": [
    "sns.displot(residual,kind='kde')"
   ]
  },
  {
   "cell_type": "markdown",
   "metadata": {},
   "source": [
    "**Inference:** So as one can see in the above plot that our data is fairly **normally distributed** as most of the data points are close to 0 and only few are away from it and this is the visible evidence of **distribution being normal**.\n",
    "\n",
    "There is one more method to check for this particular assumption i.e. **QQ plot**. Let's see how this can be insightful."
   ]
  },
  {
   "cell_type": "code",
   "execution_count": 13,
   "metadata": {},
   "outputs": [
    {
     "data": {
      "image/png": "[encoded data removed]",
      "text/plain": [
       "<Figure size 432x288 with 1 Axes>"
      ]
     },
     "metadata": {
      "needs_background": "light"
     },
     "output_type": "display_data"
    }
   ],
   "source": [
    "# QQ Plot\n",
    "\n",
    "import scipy as sp\n",
    "\n",
    "fig, ax = plt.subplots(figsize=(6,4))\n",
    "sp.stats.probplot(residual, plot=ax, fit=True)\n",
    "\n",
    "plt.show()"
   ]
  },
  {
   "cell_type": "markdown",
   "metadata": {},
   "source": [
    "**Inference:** To see if the residuals are normal or not in **QQ plot** then those **blue dotted points** should be fairly close to that **red regression line** if that is there than the residuals are perfectly normal otherwise the assumption will be failed."
   ]
  },
  {
   "cell_type": "markdown",
   "metadata": {},
   "source": [
    "## 4. Homoscedasticity\n",
    "\n",
    "This assumption is also related to the residuals/errors only but this time it is **not related to distribution** but it's related to **spread of errors**. Let's break down this word which is loaded with heavy vocab :). **\"Homo\"** means **same** while **scedasticity** means **spread** combining them gives the meaning as, same spread i.e. the **residuals should be spread evenly along the sample space.** "
   ]
  },
  {
   "cell_type": "code",
   "execution_count": 14,
   "metadata": {},
   "outputs": [
    {
     "data": {
      "text/plain": [
       "<matplotlib.collections.PathCollection at 0x20bcd5fc8e0>"
      ]
     },
     "execution_count": 14,
     "metadata": {},
     "output_type": "execute_result"
    },
    {
     "data": {
      "image/png": "[encoded data removed]",
      "text/plain": [
       "<Figure size 432x288 with 1 Axes>"
      ]
     },
     "metadata": {
      "needs_background": "light"
     },
     "output_type": "display_data"
    }
   ],
   "source": [
    "plt.scatter(y_pred,residual)"
   ]
  },
  {
   "cell_type": "markdown",
   "metadata": {},
   "source": [
    "**Inference:** We have plotted the **scatter plot of the residuals/errors** in order to see how they are spread across sample space and by looking at the above plot we can conclude that the data points related to errors are **evenly spread**, so this assumption is accepted in our case."
   ]
  },
  {
   "cell_type": "markdown",
   "metadata": {},
   "source": [
    "## 5. Autocorrelation of Residuals\n",
    "\n",
    "In the list this is our **5th assumption** but continously **3rd one** with respect to **errors/residuals**. In this assumption we see that whether our error is giving us **positive autocorrelation** (if we plot in this condition then there would be some sort of **pattern** between residual's data points) or **negative autocorrelation** (in this case there would **no pattern** infact the data points are abruptly distributed). If want our assumption to be accepted then the dataset should fall in the category of **negative autocorrelation**."
   ]
  },
  {
   "cell_type": "code",
   "execution_count": 15,
   "metadata": {
    "scrolled": true
   },
   "outputs": [
    {
     "data": {
      "text/plain": [
       "[<matplotlib.lines.Line2D at 0x20bcd6567c0>]"
      ]
     },
     "execution_count": 15,
     "metadata": {},
     "output_type": "execute_result"
    },
    {
     "data": {
      "image/png": "[encoded data removed]",
      "text/plain": [
       "<Figure size 432x288 with 1 Axes>"
      ]
     },
     "metadata": {
      "needs_background": "light"
     },
     "output_type": "display_data"
    }
   ],
   "source": [
    "plt.plot(residual)"
   ]
  },
  {
   "cell_type": "markdown",
   "metadata": {},
   "source": [
    "**Inference:** As discussed above, if we want our assumption to be passed then we need to see the negative autocorrelation which is clearly visible in the above residual plot as there is **no pattern** what so ever in here which brings us to conclusion that this assumption is also **positive.**"
   ]
  },
  {
   "cell_type": "markdown",
   "metadata": {},
   "source": [
    "## Conclusion\n",
    "\n",
    "Here we are at the last section of the article, As we have discussed a lot in this article so it will be a very **short, crisp and informative** part where it will give you a sense of revision of all the topics that we have discussed so far.\n",
    "\n",
    "1. First we started with some boiler code like extracting **features** and **target** variables, breaking dataset into **training and testing** set, getting the **residuals/errors**.\n",
    "\n",
    "2. Now, comes the first assumption where we discussed why **linear relationship** is necessary among features and target variables. Then, **Multicollinearity** was next where we learned that in order to work with LR model we need to have dataset whose independent variables are not correlated with each other.\n",
    "\n",
    "3. **Normality of Residual**, the third assumption taught us that the distribution of the errors should be normal that we saw using **KDE** and **QQ** plot. Then, comes **Homoscedasticity** which means \"**same spread of error** in the sample space\" we saw this practically using **scatter plot**.\n",
    "\n",
    "4. The last was **Auto Correlation of Residuals**, in which if we want the assumption to be accepted then there should be negative auto correlation of residuals i.e. no pattern between residual data points."
   ]
  }
 ],
 "metadata": {
  "kernelspec": {
   "display_name": "Python 3",
   "language": "python",
   "name": "python3"
  },
  "language_info": {
   "codemirror_mode": {
    "name": "ipython",
    "version": 3
   },
   "file_extension": ".py",
   "mimetype": "text/x-python",
   "name": "python",
   "nbconvert_exporter": "python",
   "pygments_lexer": "ipython3",
   "version": "3.8.5"
  },
  "varInspector": {
   "cols": {
    "lenName": 16,
    "lenType": 16,
    "lenVar": 40
   },
   "kernels_config": {
    "python": {
     "delete_cmd_postfix": "",
     "delete_cmd_prefix": "del ",
     "library": "var_list.py",
     "varRefreshCmd": "print(var_dic_list())"
    },
    "r": {
     "delete_cmd_postfix": ") ",
     "delete_cmd_prefix": "rm(",
     "library": "var_list.r",
     "varRefreshCmd": "cat(var_dic_list()) "
    }
   },
   "types_to_exclude": [
    "module",
    "function",
    "builtin_function_or_method",
    "instance",
    "_Feature"
   ],
   "window_display": false
  }
 },
 "nbformat": 4,
 "nbformat_minor": 5
}
